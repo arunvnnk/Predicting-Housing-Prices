{
 "cells": [
  {
   "cell_type": "markdown",
   "metadata": {},
   "source": [
    "# Generating a Stronger Predictive Model with Additional Pre-Processing and Regularization\n",
    "My intial linear regression model in notebook 2 produced a regresion model with a root mean squared error of 30,093. However, as I will demonstrate in this notebook, through additional feature engineering and the application of additional modeling techniques, most importantly regularization, the model performance can be improved significantly.\n",
    "\n",
    "Notably, in the original linear regression model, I selected a specific number of features for my model out of a desire to avoid building a high-variance model. A high-variance model would be evident if there is a significant divergence in how our model performs on training versus testing data.\n",
    "\n",
    "Typically, if this was the case in a model we could do the following:\n",
    "- Gather more data (but this may be time-consuming and or expensive)\n",
    "- Drop features (or limit the number of features in the model).-\n",
    "- Make our existing features less complex. For example, if there are interaction or higher order terms, we might want to remove these from the models. \n",
    "- If applicable, choose a simpler model.\n",
    "- Or employ regularization techniques.\n",
    "\n",
    "The last option, regularization, provides a simple but powerful tool for improving model performance, we can include more features while reducing the risk that we over-engineer our model. Regularization automatically avoids overfitting by adding a penalty to the model's loss function when fitting.\n",
    "\n",
    "In ordinary least squares regression (OLS), a line of best fit is created by selecting $B$ coefficients that minimize the sum of squared errors (SSE).\n",
    "\n",
    "Regularization avoids overfitting by adding a penalty to the loss function, which limits the size of the coefficients--ideally making feature coefficients based on signal in our data as opposed to \"noise\" or random fluctuations in the data that we would ideally ignore.\n",
    "- If the coefficients are large because of noise, then our loss function will likely gently slope, allowing regularization to push the coefficients considerably toward zero.\n",
    "- If the coefficients are large because they're supposed to be large, then our loss function will likely be steep and regularization will have little effect on the coefficients.\n",
    "\n",
    "The most common regularization techniques are Ridge and Lasso, both of which will be employed below."
   ]
  },
  {
   "cell_type": "code",
   "execution_count": 1,
   "metadata": {},
   "outputs": [],
   "source": [
    "# first we need to import the libraries we will use\n",
    "# importing relevant libraries\n",
    "import pandas as pd\n",
    "import numpy as np\n",
    "import seaborn as sns\n",
    "import matplotlib.pyplot as plt\n",
    "\n",
    "%matplotlib inline\n",
    "\n",
    "from sklearn import metrics\n",
    "from sklearn.linear_model import LinearRegression, LassoCV, RidgeCV, Lasso, Ridge\n",
    "from sklearn.model_selection import train_test_split, cross_val_score, cross_val_predict\n",
    "from sklearn.metrics import r2_score, mean_squared_error, mean_absolute_error\n",
    "from sklearn.preprocessing import StandardScaler, PolynomialFeatures"
   ]
  },
  {
   "cell_type": "code",
   "execution_count": 2,
   "metadata": {},
   "outputs": [],
   "source": [
    "# and import the data we explored and cleaned as part of our EDA in the first notebook\n",
    "# train and test data files are provided as separate csv files\n",
    "\n",
    "train = pd.read_csv('datasets/train_cleaned.csv')\n",
    "test = pd.read_csv('datasets/test_cleaned.csv')"
   ]
  },
  {
   "cell_type": "markdown",
   "metadata": {},
   "source": [
    "As shown in our EDA, there are object columns that have potential explanatory power that we want to dummify. However, we want to ensure that we are not dummifying columns with too many null values so that this does not skew our model. Below I will create a filter so that we only dummify object columns that have observations for 90% of the rows."
   ]
  },
  {
   "cell_type": "code",
   "execution_count": 3,
   "metadata": {},
   "outputs": [],
   "source": [
    "## want object columns where at least 90% of the homes have data \n",
    "dum_filter = (train.dtypes == 'object') & (train.isnull().mean() < .1)\n",
    "\n",
    "dummies_train = pd.get_dummies(train.loc[:, dum_filter], dummy_na=True)"
   ]
  },
  {
   "cell_type": "markdown",
   "metadata": {},
   "source": [
    "Below we will now move to getting a features list. Based on the EDA we performed, there are some columns we will drop that clearly do not have a relationship to the sale price, like the unique identifier for a given observation."
   ]
  },
  {
   "cell_type": "code",
   "execution_count": 4,
   "metadata": {},
   "outputs": [],
   "source": [
    "cols_to_drop = [ 'id','pid', 'mo_sold','saleprice']\n",
    "\n",
    "\n",
    "num_df = train.loc[:, (train.dtypes != 'object') & (train.isnull().mean() < .1)].drop(columns = cols_to_drop)"
   ]
  },
  {
   "cell_type": "markdown",
   "metadata": {},
   "source": [
    "Now that we have converted our features to numeric from object columns we can set our features."
   ]
  },
  {
   "cell_type": "code",
   "execution_count": 5,
   "metadata": {},
   "outputs": [],
   "source": [
    "numeric_features = num_df.columns"
   ]
  },
  {
   "cell_type": "markdown",
   "metadata": {},
   "source": [
    "One problem we might want to consider when modeling is that the relationships between our features and our target may not be linear. For example, homes of different sizes may or types may not exhibit a linear relationship to price, given other features. \n",
    "\n",
    "If a relationship is non-linear, but we still need to capture the relationship we can apply polynomial regression to capture the curved relationship. \n",
    "\n",
    "Below, we will fit sklearn's PolynomialFeatures on our X / features data to engineer two-way terms and keep our original features"
   ]
  },
  {
   "cell_type": "markdown",
   "metadata": {},
   "source": [
    "#### Set our X and y variables for modeling"
   ]
  },
  {
   "cell_type": "code",
   "execution_count": 18,
   "metadata": {},
   "outputs": [],
   "source": [
    "X = pd.concat([num_df, dummies_train], axis=1)\n",
    "y = train['saleprice']\n"
   ]
  },
  {
   "cell_type": "markdown",
   "metadata": {},
   "source": [
    "As referenced in the previous notebook where we built a linear regression model, there are features that are highly correlated with each other--such as in 'garage_cars' and 'garage_area' below. \n",
    "\n",
    "In our prior model, to capture the relationship between the two, we created an interaction term by multiplying these features together, which allows us to see what affect the combination of two features have on our label."
   ]
  },
  {
   "cell_type": "code",
   "execution_count": 19,
   "metadata": {},
   "outputs": [
    {
     "data": {
      "text/html": [
       "<div>\n",
       "<style scoped>\n",
       "    .dataframe tbody tr th:only-of-type {\n",
       "        vertical-align: middle;\n",
       "    }\n",
       "\n",
       "    .dataframe tbody tr th {\n",
       "        vertical-align: top;\n",
       "    }\n",
       "\n",
       "    .dataframe thead th {\n",
       "        text-align: right;\n",
       "    }\n",
       "</style>\n",
       "<table border=\"1\" class=\"dataframe\">\n",
       "  <thead>\n",
       "    <tr style=\"text-align: right;\">\n",
       "      <th></th>\n",
       "      <th>garage_cars</th>\n",
       "      <th>garage_area</th>\n",
       "    </tr>\n",
       "  </thead>\n",
       "  <tbody>\n",
       "    <tr>\n",
       "      <th>garage_cars</th>\n",
       "      <td>1.000000</td>\n",
       "      <td>0.897083</td>\n",
       "    </tr>\n",
       "    <tr>\n",
       "      <th>garage_area</th>\n",
       "      <td>0.897083</td>\n",
       "      <td>1.000000</td>\n",
       "    </tr>\n",
       "  </tbody>\n",
       "</table>\n",
       "</div>"
      ],
      "text/plain": [
       "             garage_cars  garage_area\n",
       "garage_cars     1.000000     0.897083\n",
       "garage_area     0.897083     1.000000"
      ]
     },
     "execution_count": 19,
     "metadata": {},
     "output_type": "execute_result"
    }
   ],
   "source": [
    "z = train[['garage_cars', 'garage_area']]\n",
    "z.corr()"
   ]
  },
  {
   "cell_type": "markdown",
   "metadata": {},
   "source": [
    "However, this is a manual process--finding potential interactions and creating them can become very time consuming with so many features available in our model.\n",
    "\n",
    "With the `PolynomialFeatures` library in `sklearn` we can transform our features more efficiently:\n",
    "\n",
    "When we fit the polynomial featues library to our existing set of features, we will get the following:\n",
    "1. our original feature\n",
    "2. our original feature squared with itself\n",
    "3. our feature multiplied by another feature\n",
    "\n",
    "This process will repeat for all features. **NOTE**: You'll need to set `include_bias=False`."
   ]
  },
  {
   "cell_type": "markdown",
   "metadata": {},
   "source": [
    "Because we dummified our object columns above, we now have 328 features before we engage in any additional feature engineering, this can be confirmed with the code below."
   ]
  },
  {
   "cell_type": "code",
   "execution_count": 21,
   "metadata": {},
   "outputs": [
    {
     "data": {
      "text/plain": [
       "328"
      ]
     },
     "execution_count": 21,
     "metadata": {},
     "output_type": "execute_result"
    }
   ],
   "source": [
    "len(X.columns)"
   ]
  },
  {
   "cell_type": "code",
   "execution_count": null,
   "metadata": {},
   "outputs": [],
   "source": []
  },
  {
   "cell_type": "code",
   "execution_count": null,
   "metadata": {},
   "outputs": [],
   "source": []
  },
  {
   "cell_type": "code",
   "execution_count": null,
   "metadata": {},
   "outputs": [],
   "source": []
  },
  {
   "cell_type": "code",
   "execution_count": null,
   "metadata": {},
   "outputs": [],
   "source": []
  },
  {
   "cell_type": "code",
   "execution_count": null,
   "metadata": {},
   "outputs": [],
   "source": []
  },
  {
   "cell_type": "code",
   "execution_count": null,
   "metadata": {},
   "outputs": [],
   "source": []
  },
  {
   "cell_type": "markdown",
   "metadata": {},
   "source": [
    "Now we can instantiate our PolynomialFeatures object from sklearn and fit it to our features list and then pull our updated list of feature names "
   ]
  },
  {
   "cell_type": "code",
   "execution_count": 22,
   "metadata": {},
   "outputs": [],
   "source": [
    "# Instantiate our PolynomialFeatures object to create all two-way terms.\n",
    "poly = PolynomialFeatures(degree=2, interaction_only=False, include_bias=False)\n",
    "\n",
    "# Fit and transform our X data.\n",
    "X_poly = poly.fit_transform(X)"
   ]
  },
  {
   "cell_type": "code",
   "execution_count": 24,
   "metadata": {},
   "outputs": [
    {
     "data": {
      "text/plain": [
       "54284"
      ]
     },
     "execution_count": 24,
     "metadata": {},
     "output_type": "execute_result"
    }
   ],
   "source": [
    "len(poly.get_feature_names(X.columns))"
   ]
  },
  {
   "cell_type": "code",
   "execution_count": 30,
   "metadata": {},
   "outputs": [
    {
     "data": {
      "text/plain": [
       "['year_built ms_zoning_RH',\n",
       " 'year_built ms_zoning_RL',\n",
       " 'year_built ms_zoning_RM',\n",
       " 'year_built ms_zoning_nan',\n",
       " 'year_built street_Grvl',\n",
       " 'year_built street_Pave',\n",
       " 'year_built street_nan',\n",
       " 'year_built lot_shape_IR1',\n",
       " 'year_built lot_shape_IR2',\n",
       " 'year_built lot_shape_IR3',\n",
       " 'year_built lot_shape_Reg',\n",
       " 'year_built lot_shape_nan',\n",
       " 'year_built land_contour_Bnk',\n",
       " 'year_built land_contour_HLS',\n",
       " 'year_built land_contour_Low',\n",
       " 'year_built land_contour_Lvl',\n",
       " 'year_built land_contour_nan',\n",
       " 'year_built utilities_AllPub',\n",
       " 'year_built utilities_NoSeWa',\n",
       " 'year_built utilities_NoSewr',\n",
       " 'year_built utilities_nan',\n",
       " 'year_built lot_config_Corner',\n",
       " 'year_built lot_config_CulDSac',\n",
       " 'year_built lot_config_FR2',\n",
       " 'year_built lot_config_FR3']"
      ]
     },
     "execution_count": 30,
     "metadata": {},
     "output_type": "execute_result"
    }
   ],
   "source": [
    "poly.get_feature_names(X.columns)[2000:2025]"
   ]
  },
  {
   "cell_type": "markdown",
   "metadata": {},
   "source": [
    "We now have more than 54,000 features potential features created, without having engaged in manually searching for potential relationships and generating interactions manually. As shown with the code above, we can look at a sample of our new feature names and see interactions are being created.\n",
    "\n",
    "Of course, by having so many features, we are introducing the bias/variance tradeoff and are running the risk that our model will be overfit to the features. \n",
    "#### This is where regularization comes in!"
   ]
  },
  {
   "cell_type": "code",
   "execution_count": 40,
   "metadata": {},
   "outputs": [],
   "source": [
    "X_train, X_holdout, y_train, y_holdout = train_test_split(X, y, random_state=42)"
   ]
  },
  {
   "cell_type": "code",
   "execution_count": 41,
   "metadata": {},
   "outputs": [],
   "source": [
    "ridge = RidgeCV()"
   ]
  },
  {
   "cell_type": "code",
   "execution_count": 42,
   "metadata": {},
   "outputs": [],
   "source": [
    "sc = StandardScaler()\n",
    "X_train_sc = pd.DataFrame(sc.fit_transform(X_train), columns=X.columns)\n",
    "X_holdout_sc = pd.DataFrame(sc.fit_transform(X_holdout), columns=X.columns)"
   ]
  },
  {
   "cell_type": "code",
   "execution_count": 43,
   "metadata": {},
   "outputs": [],
   "source": [
    "y_train_transformed = np.log1p(y_train)\n",
    "y_holdout_transformed = np.log1p(y_holdout)"
   ]
  },
  {
   "cell_type": "code",
   "execution_count": 46,
   "metadata": {},
   "outputs": [
    {
     "data": {
      "text/plain": [
       "0.8891938641620751"
      ]
     },
     "execution_count": 46,
     "metadata": {},
     "output_type": "execute_result"
    }
   ],
   "source": [
    "# using cross_validation_score to evaluate model\n",
    "cross_val_score(ridge, X_train_sc, y_train_transformed, cv=5).mean()"
   ]
  },
  {
   "cell_type": "code",
   "execution_count": 47,
   "metadata": {},
   "outputs": [
    {
     "data": {
      "text/plain": [
       "0.8287231763115892"
      ]
     },
     "execution_count": 47,
     "metadata": {},
     "output_type": "execute_result"
    }
   ],
   "source": [
    "cross_val_score(ridge, X_holdout_sc, y_holdout_transformed, cv=5).mean()"
   ]
  },
  {
   "cell_type": "code",
   "execution_count": 48,
   "metadata": {},
   "outputs": [
    {
     "data": {
      "text/plain": [
       "RidgeCV(alphas=array([ 0.1,  1. , 10. ]), cv=None, fit_intercept=True,\n",
       "        gcv_mode=None, normalize=False, scoring=None, store_cv_values=False)"
      ]
     },
     "execution_count": 48,
     "metadata": {},
     "output_type": "execute_result"
    }
   ],
   "source": [
    "# fitting model to the training data\n",
    "ridge.fit(X_train_sc, y_train_transformed)"
   ]
  },
  {
   "cell_type": "code",
   "execution_count": 49,
   "metadata": {},
   "outputs": [
    {
     "data": {
      "text/plain": [
       "0.9465483237973781"
      ]
     },
     "execution_count": 49,
     "metadata": {},
     "output_type": "execute_result"
    }
   ],
   "source": [
    "# evaluating training scores\n",
    "ridge.score(X_train_sc, y_train_transformed)"
   ]
  },
  {
   "cell_type": "code",
   "execution_count": 50,
   "metadata": {},
   "outputs": [],
   "source": [
    "# evaluating holdout scores\n",
    "predictions_ridge = ridge.predict(X_holdout_sc)"
   ]
  },
  {
   "cell_type": "code",
   "execution_count": 51,
   "metadata": {},
   "outputs": [],
   "source": [
    "predictions_ridge_clean = np.expm1(predictions_ridge)"
   ]
  },
  {
   "cell_type": "code",
   "execution_count": 52,
   "metadata": {},
   "outputs": [
    {
     "data": {
      "text/plain": [
       "0.9238475783922271"
      ]
     },
     "execution_count": 52,
     "metadata": {},
     "output_type": "execute_result"
    }
   ],
   "source": [
    "r2_score(y_holdout, predictions_ridge_clean)"
   ]
  },
  {
   "cell_type": "code",
   "execution_count": 53,
   "metadata": {},
   "outputs": [],
   "source": [
    "residuals_ridge = y_holdout - predictions_ridge_clean"
   ]
  },
  {
   "cell_type": "code",
   "execution_count": 54,
   "metadata": {},
   "outputs": [
    {
     "data": {
      "image/png": "[encoded data removed]",
      "text/plain": [
       "<Figure size 432x288 with 1 Axes>"
      ]
     },
     "metadata": {
      "needs_background": "light"
     },
     "output_type": "display_data"
    }
   ],
   "source": [
    "plt.hist(residuals_ridge);"
   ]
  },
  {
   "cell_type": "code",
   "execution_count": 55,
   "metadata": {},
   "outputs": [
    {
     "data": {
      "text/plain": [
       "20455.55135564563"
      ]
     },
     "execution_count": 55,
     "metadata": {},
     "output_type": "execute_result"
    }
   ],
   "source": [
    "np.sqrt(mean_squared_error(y_holdout, predictions_ridge_clean))"
   ]
  },
  {
   "cell_type": "markdown",
   "metadata": {},
   "source": [
    "## Employing a Grid Search to Identify whether the optimal parameters for ridge regression!"
   ]
  },
  {
   "cell_type": "code",
   "execution_count": 56,
   "metadata": {},
   "outputs": [],
   "source": [
    "from sklearn.model_selection import GridSearchCV\n",
    "Ridge()\n",
    "\n",
    "params = { \n",
    "    'alpha': [-20, -10,-1,1,10,20],\n",
    "    'max_iter':[1e6]\n",
    "\n",
    "}\n",
    "\n",
    "gs = GridSearchCV(Ridge(), param_grid=params, cv=5)"
   ]
  },
  {
   "cell_type": "code",
   "execution_count": 57,
   "metadata": {},
   "outputs": [
    {
     "name": "stderr",
     "output_type": "stream",
     "text": [
      "/Users/nicolasavega/opt/anaconda3/lib/python3.7/site-packages/sklearn/model_selection/_search.py:814: DeprecationWarning: The default of the `iid` parameter will change from True to False in version 0.22 and will be removed in 0.24. This will change numeric results when test-set sizes are unequal.\n",
      "  DeprecationWarning)\n"
     ]
    },
    {
     "data": {
      "text/plain": [
       "GridSearchCV(cv=5, error_score='raise-deprecating',\n",
       "             estimator=Ridge(alpha=1.0, copy_X=True, fit_intercept=True,\n",
       "                             max_iter=None, normalize=False, random_state=None,\n",
       "                             solver='auto', tol=0.001),\n",
       "             iid='warn', n_jobs=None,\n",
       "             param_grid={'alpha': [-20, -10, -1, 1, 10, 20],\n",
       "                         'max_iter': [1000000.0]},\n",
       "             pre_dispatch='2*n_jobs', refit=True, return_train_score=False,\n",
       "             scoring=None, verbose=0)"
      ]
     },
     "execution_count": 57,
     "metadata": {},
     "output_type": "execute_result"
    }
   ],
   "source": [
    "gs.fit(X_train_sc, y_train_transformed)"
   ]
  },
  {
   "cell_type": "code",
   "execution_count": 58,
   "metadata": {},
   "outputs": [
    {
     "data": {
      "text/plain": [
       "{'alpha': 20, 'max_iter': 1000000.0}"
      ]
     },
     "execution_count": 58,
     "metadata": {},
     "output_type": "execute_result"
    }
   ],
   "source": [
    "gs.best_params_"
   ]
  },
  {
   "cell_type": "code",
   "execution_count": 59,
   "metadata": {},
   "outputs": [
    {
     "data": {
      "text/plain": [
       "0.9053225428017657"
      ]
     },
     "execution_count": 59,
     "metadata": {},
     "output_type": "execute_result"
    }
   ],
   "source": [
    "gs.score(X_holdout_sc, y_holdout_transformed)"
   ]
  },
  {
   "cell_type": "code",
   "execution_count": 60,
   "metadata": {},
   "outputs": [],
   "source": [
    "X_sc = pd.DataFrame(sc.fit_transform(X), columns=X.columns)"
   ]
  },
  {
   "cell_type": "code",
   "execution_count": 61,
   "metadata": {},
   "outputs": [],
   "source": [
    "y_transformed = np.log1p(y)"
   ]
  },
  {
   "cell_type": "code",
   "execution_count": 62,
   "metadata": {},
   "outputs": [
    {
     "data": {
      "text/plain": [
       "GridSearchCV(cv=5, error_score='raise-deprecating',\n",
       "             estimator=Ridge(alpha=1.0, copy_X=True, fit_intercept=True,\n",
       "                             max_iter=None, normalize=False, random_state=None,\n",
       "                             solver='auto', tol=0.001),\n",
       "             iid='warn', n_jobs=None,\n",
       "             param_grid={'alpha': [-20, -10, -1, 1, 10, 20],\n",
       "                         'max_iter': [1000000.0]},\n",
       "             pre_dispatch='2*n_jobs', refit=True, return_train_score=False,\n",
       "             scoring=None, verbose=0)"
      ]
     },
     "execution_count": 62,
     "metadata": {},
     "output_type": "execute_result"
    }
   ],
   "source": [
    "gs.fit(X_sc, y_transformed)"
   ]
  },
  {
   "cell_type": "code",
   "execution_count": 63,
   "metadata": {},
   "outputs": [
    {
     "data": {
      "text/plain": [
       "0.9422760279428587"
      ]
     },
     "execution_count": 63,
     "metadata": {},
     "output_type": "execute_result"
    }
   ],
   "source": [
    "gs.best_estimator_.score(X_sc, y_transformed)"
   ]
  },
  {
   "cell_type": "code",
   "execution_count": 64,
   "metadata": {},
   "outputs": [],
   "source": [
    "# Based on best params above, re-run ridge with these new parameers\n",
    "best_ridge = gs.best_estimator_ "
   ]
  },
  {
   "cell_type": "code",
   "execution_count": 65,
   "metadata": {},
   "outputs": [
    {
     "data": {
      "text/plain": [
       "0.9024210319180895"
      ]
     },
     "execution_count": 65,
     "metadata": {},
     "output_type": "execute_result"
    }
   ],
   "source": [
    "cross_val_score(best_ridge, X_sc, y_transformed, cv=5).mean()"
   ]
  },
  {
   "cell_type": "code",
   "execution_count": 66,
   "metadata": {},
   "outputs": [],
   "source": [
    "predictions_ridge_best = best_ridge.predict(X_sc)"
   ]
  },
  {
   "cell_type": "code",
   "execution_count": 67,
   "metadata": {},
   "outputs": [],
   "source": [
    "predictions_ridge_best_clean = np.expm1(predictions_ridge_best)"
   ]
  },
  {
   "cell_type": "code",
   "execution_count": 68,
   "metadata": {},
   "outputs": [
    {
     "data": {
      "text/plain": [
       "0.954468625280339"
      ]
     },
     "execution_count": 68,
     "metadata": {},
     "output_type": "execute_result"
    }
   ],
   "source": [
    "r2_score(y, predictions_ridge_best_clean)"
   ]
  },
  {
   "cell_type": "code",
   "execution_count": 69,
   "metadata": {},
   "outputs": [],
   "source": [
    "residuals_ridge_best = y - predictions_ridge_best_clean"
   ]
  },
  {
   "cell_type": "code",
   "execution_count": 70,
   "metadata": {},
   "outputs": [
    {
     "data": {
      "image/png": "[encoded data removed]",
      "text/plain": [
       "<Figure size 432x288 with 1 Axes>"
      ]
     },
     "metadata": {
      "needs_background": "light"
     },
     "output_type": "display_data"
    }
   ],
   "source": [
    "plt.hist(residuals_ridge_best);"
   ]
  },
  {
   "cell_type": "code",
   "execution_count": 71,
   "metadata": {},
   "outputs": [
    {
     "data": {
      "text/plain": [
       "16913.22247615101"
      ]
     },
     "execution_count": 71,
     "metadata": {},
     "output_type": "execute_result"
    }
   ],
   "source": [
    "np.sqrt(mean_squared_error(y, predictions_ridge_best_clean))"
   ]
  },
  {
   "cell_type": "code",
   "execution_count": null,
   "metadata": {},
   "outputs": [],
   "source": []
  }
 ],
 "metadata": {
  "kernelspec": {
   "display_name": "Python 3",
   "language": "python",
   "name": "python3"
  }
 },
 "nbformat": 4,
 "nbformat_minor": 2
}
