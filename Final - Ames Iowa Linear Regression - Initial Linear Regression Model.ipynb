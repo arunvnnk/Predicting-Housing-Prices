{
 "cells": [
  {
   "cell_type": "code",
   "execution_count": 64,
   "metadata": {},
   "outputs": [],
   "source": [
    "# importing relevant libraries\n",
    "import pandas as pd\n",
    "import numpy as np\n",
    "import seaborn as sns\n",
    "import matplotlib.pyplot as plt\n",
    "\n",
    "%matplotlib inline\n",
    "\n",
    "from sklearn import metrics\n",
    "from sklearn.linear_model import LinearRegression, LassoCV, RidgeCV, Lasso, Ridge\n",
    "from sklearn.model_selection import train_test_split, cross_val_score, cross_val_predict\n",
    "from sklearn.metrics import r2_score, mean_squared_error, mean_absolute_error\n",
    "from sklearn.preprocessing import StandardScaler, PolynomialFeatures\n"
   ]
  },
  {
   "cell_type": "code",
   "execution_count": 7,
   "metadata": {},
   "outputs": [],
   "source": [
    "# train and test data files are provided as separate csv files\n",
    "\n",
    "train = pd.read_csv('datasets/train_cleaned.csv')\n",
    "test = pd.read_csv('datasets/test_cleaned.csv')"
   ]
  },
  {
   "cell_type": "markdown",
   "metadata": {},
   "source": [
    "For the initial linear regression model that did not yield the best results, I engaged in feature engineering and selected 11-13 features to model on, driven by a desire to avoid overfitting my model.\n",
    "\n",
    "Intuitively, some feautres such as garage condition and quality or fireplace condition and quality may be related to each other, so I wanted to create an interaction term that captured the relationship and use that in the model to avoid overfitting."
   ]
  },
  {
   "cell_type": "code",
   "execution_count": 8,
   "metadata": {},
   "outputs": [
    {
     "name": "stdout",
     "output_type": "stream",
     "text": [
      "             garage_cond  garage_qual\n",
      "garage_cond     1.000000     0.516762\n",
      "garage_qual     0.516762     1.000000\n"
     ]
    }
   ],
   "source": [
    "# Identified below that 'garage_cond' and 'garage_qual' have a 0.95 correlation with each other...\n",
    "# so create interaction term below\n",
    "z = train[['garage_cond', 'garage_qual']]\n",
    "print(z.corr())"
   ]
  },
  {
   "cell_type": "code",
   "execution_count": 9,
   "metadata": {},
   "outputs": [],
   "source": [
    "# creating interaction term for the train dataset\n",
    "train['garage_interaction'] = train['garage_cond'] * train['garage_qual']\n",
    "# creating interaction term for the test dataset\n",
    "test['garage_interaction'] = test['garage_cond'] * test['garage_qual']"
   ]
  },
  {
   "cell_type": "code",
   "execution_count": 10,
   "metadata": {},
   "outputs": [
    {
     "data": {
      "text/html": [
       "<div>\n",
       "<style scoped>\n",
       "    .dataframe tbody tr th:only-of-type {\n",
       "        vertical-align: middle;\n",
       "    }\n",
       "\n",
       "    .dataframe tbody tr th {\n",
       "        vertical-align: top;\n",
       "    }\n",
       "\n",
       "    .dataframe thead th {\n",
       "        text-align: right;\n",
       "    }\n",
       "</style>\n",
       "<table border=\"1\" class=\"dataframe\">\n",
       "  <thead>\n",
       "    <tr style=\"text-align: right;\">\n",
       "      <th></th>\n",
       "      <th>garage_area</th>\n",
       "      <th>garage_cars</th>\n",
       "    </tr>\n",
       "  </thead>\n",
       "  <tbody>\n",
       "    <tr>\n",
       "      <th>garage_area</th>\n",
       "      <td>1.000000</td>\n",
       "      <td>0.897083</td>\n",
       "    </tr>\n",
       "    <tr>\n",
       "      <th>garage_cars</th>\n",
       "      <td>0.897083</td>\n",
       "      <td>1.000000</td>\n",
       "    </tr>\n",
       "  </tbody>\n",
       "</table>\n",
       "</div>"
      ],
      "text/plain": [
       "             garage_area  garage_cars\n",
       "garage_area     1.000000     0.897083\n",
       "garage_cars     0.897083     1.000000"
      ]
     },
     "execution_count": 10,
     "metadata": {},
     "output_type": "execute_result"
    }
   ],
   "source": [
    "k = train[['garage_area', 'garage_cars']]\n",
    "k.corr()\n"
   ]
  },
  {
   "cell_type": "code",
   "execution_count": 11,
   "metadata": {},
   "outputs": [],
   "source": [
    "train['garage_size_interaction'] = train['garage_area'] * train['garage_cars']\n",
    "test['garage_size_interaction'] = test['garage_area'] * test['garage_cars']"
   ]
  },
  {
   "cell_type": "markdown",
   "metadata": {},
   "source": [
    "### Setting X & Y variables for Linear Regression Model"
   ]
  },
  {
   "cell_type": "code",
   "execution_count": 18,
   "metadata": {},
   "outputs": [
    {
     "data": {
      "text/plain": [
       "Index(['id', 'pid', 'ms_subclass', 'ms_zoning', 'lot_frontage', 'lot_area',\n",
       "       'street', 'alley', 'lot_shape', 'land_contour', 'utilities',\n",
       "       'lot_config', 'land_slope', 'neighborhood', 'condition_1',\n",
       "       'condition_2', 'bldg_type', 'house_style', 'overall_qual',\n",
       "       'overall_cond', 'year_built', 'year_remod/add', 'roof_style',\n",
       "       'roof_matl', 'exterior_1st', 'exterior_2nd', 'mas_vnr_type',\n",
       "       'mas_vnr_area', 'exter_qual', 'exter_cond', 'foundation', 'bsmt_qual',\n",
       "       'bsmt_cond', 'bsmt_exposure', 'bsmtfin_type_1', 'bsmtfin_sf_1',\n",
       "       'bsmtfin_type_2', 'bsmtfin_sf_2', 'bsmt_unf_sf', 'total_bsmt_sf',\n",
       "       'heating', 'heating_qc', 'central_air', 'electrical', '1st_flr_sf',\n",
       "       '2nd_flr_sf', 'low_qual_fin_sf', 'gr_liv_area', 'bsmt_full_bath',\n",
       "       'bsmt_half_bath', 'full_bath', 'half_bath', 'bedroom_abvgr',\n",
       "       'kitchen_abvgr', 'kitchen_qual', 'totrms_abvgrd', 'functional',\n",
       "       'fireplaces', 'fireplace_qu', 'garage_type', 'garage_yr_blt',\n",
       "       'garage_finish', 'garage_cars', 'garage_area', 'garage_qual',\n",
       "       'garage_cond', 'paved_drive', 'wood_deck_sf', 'open_porch_sf',\n",
       "       'enclosed_porch', '3ssn_porch', 'screen_porch', 'pool_area', 'pool_qc',\n",
       "       'fence', 'misc_feature', 'misc_val', 'mo_sold', 'yr_sold', 'sale_type',\n",
       "       'saleprice', 'age', 'date_sold', 'garage_interaction',\n",
       "       'garage_size_interaction', 'fireplace_interaction'],\n",
       "      dtype='object')"
      ]
     },
     "execution_count": 18,
     "metadata": {},
     "output_type": "execute_result"
    }
   ],
   "source": [
    "train.columns"
   ]
  },
  {
   "cell_type": "code",
   "execution_count": 22,
   "metadata": {},
   "outputs": [],
   "source": [
    "X = train[['overall_qual', 'exter_qual', 'gr_liv_area', 'kitchen_qual',\n",
    "'garage_size_interaction', 'full_bath', '1st_flr_sf', 'total_bsmt_sf', 'age']] \n",
    "\n",
    "y = train['saleprice']"
   ]
  },
  {
   "cell_type": "markdown",
   "metadata": {},
   "source": [
    "### Check to ensure that there are no null values in our features otherwise our model may have problems"
   ]
  },
  {
   "cell_type": "code",
   "execution_count": 23,
   "metadata": {},
   "outputs": [
    {
     "data": {
      "text/plain": [
       "overall_qual               0\n",
       "exter_qual                 0\n",
       "gr_liv_area                0\n",
       "kitchen_qual               0\n",
       "garage_size_interaction    0\n",
       "full_bath                  0\n",
       "1st_flr_sf                 0\n",
       "total_bsmt_sf              0\n",
       "age                        0\n",
       "dtype: int64"
      ]
     },
     "execution_count": 23,
     "metadata": {},
     "output_type": "execute_result"
    }
   ],
   "source": [
    "X.isnull().sum()"
   ]
  },
  {
   "cell_type": "markdown",
   "metadata": {},
   "source": [
    "### Time to model our data!\n",
    "\n",
    "First we will begin by performing a train test split and instantiating our linear regression model. Since we already have a 'test' dataset, I will call my test split the \"holdout\" dataset instead."
   ]
  },
  {
   "cell_type": "code",
   "execution_count": 24,
   "metadata": {},
   "outputs": [],
   "source": [
    "# performing train_test_split\n",
    "X_train, X_holdout, y_train, y_holdout = train_test_split(X, y, random_state = 42)"
   ]
  },
  {
   "cell_type": "code",
   "execution_count": 25,
   "metadata": {},
   "outputs": [],
   "source": [
    "lr = LinearRegression()"
   ]
  },
  {
   "cell_type": "code",
   "execution_count": 27,
   "metadata": {},
   "outputs": [
    {
     "name": "stdout",
     "output_type": "stream",
     "text": [
      "The accuracy score on our trainig set is: 0.8516463762070873\n",
      "The accuracy score on our holdout set is: 0.8351860191374115\n"
     ]
    }
   ],
   "source": [
    "lr.fit(X_train, y_train)\n",
    "\n",
    "print(f'The accuracy score on our trainig set is: {lr.score(X_train, y_train)}')\n",
    "print(f'The accuracy score on our holdout set is: {lr.score(X_holdout, y_holdout)}')"
   ]
  },
  {
   "cell_type": "markdown",
   "metadata": {},
   "source": [
    "Generate predictions using our X_holdout set. And then calculate the residuals equal to the difference between our predicted y and the y_holdout."
   ]
  },
  {
   "cell_type": "code",
   "execution_count": 28,
   "metadata": {},
   "outputs": [],
   "source": [
    "predictions_lr = lr.predict(X_holdout)"
   ]
  },
  {
   "cell_type": "code",
   "execution_count": 29,
   "metadata": {},
   "outputs": [],
   "source": [
    "residuals_lr = y_holdout - predictions_lr"
   ]
  },
  {
   "cell_type": "markdown",
   "metadata": {},
   "source": [
    "## Calculate the Root Mean Squared Error of our predictions--lower the better"
   ]
  },
  {
   "cell_type": "code",
   "execution_count": 30,
   "metadata": {},
   "outputs": [
    {
     "data": {
      "text/plain": [
       "30093.06030501517"
      ]
     },
     "execution_count": 30,
     "metadata": {},
     "output_type": "execute_result"
    }
   ],
   "source": [
    "np.sqrt(mean_squared_error(y_holdout, predictions_lr))"
   ]
  },
  {
   "cell_type": "markdown",
   "metadata": {},
   "source": [
    "Plot of our residuals below shows there are a couple outliers--opportunities for improvement to be addressed in our next notebook (#3)"
   ]
  },
  {
   "cell_type": "code",
   "execution_count": 31,
   "metadata": {},
   "outputs": [
    {
     "data": {
      "image/png": "[encoded data removed]",
      "text/plain": [
       "<Figure size 432x288 with 1 Axes>"
      ]
     },
     "metadata": {
      "needs_background": "light"
     },
     "output_type": "display_data"
    }
   ],
   "source": [
    "plt.hist(residuals_lr);"
   ]
  },
  {
   "cell_type": "markdown",
   "metadata": {},
   "source": [
    "RMSE is not the only metric by which we can evaluate our model. Several metrics are built in to sklearn that can be used and we can build a function to efficiently obtain these different results."
   ]
  },
  {
   "cell_type": "code",
   "execution_count": 62,
   "metadata": {},
   "outputs": [],
   "source": [
    "def model_metrics(target, predictions):\n",
    "    # function requires the following libraries/packages to be imported:\n",
    "    # from sklearn.metrics import r2_score, mean_squared_error, mean_absolute_error\n",
    "    # returns R-squared:\n",
    "    print(f'The R-squared of the model is: \\\n",
    "    {round(r2_score(target, predictions), 4)}.')\n",
    "    # returns MAE\n",
    "    print(f'The mean absolute error (MAE) of the model is: {round(mean_absolute_error(target, predictions), 4)}.')\n",
    "    # returns MSE\n",
    "    print(f'The mean squared error (MSE) of the model is : {round(mean_squared_error(target, predictions), 4)}.')\n",
    "    # returns RMSE\n",
    "    print(f'The root mean squared error (RMSE) of the model is: {round(np.sqrt(mean_squared_error(target, predictions)), 4)}.')\n",
    "    "
   ]
  },
  {
   "cell_type": "code",
   "execution_count": 63,
   "metadata": {},
   "outputs": [
    {
     "name": "stdout",
     "output_type": "stream",
     "text": [
      "The R-squared of the model is:     0.8352.\n",
      "The mean absolute error (MAE) of the model is: 22527.1782.\n",
      "The mean squared error (MSE) of the model is : 905592278.5213.\n",
      "The root mean squared error (RMSE) of the model is: 30093.0603.\n"
     ]
    }
   ],
   "source": [
    "model_metrics(y_holdout, predictions_lr)"
   ]
  },
  {
   "cell_type": "markdown",
   "metadata": {},
   "source": []
  },
  {
   "cell_type": "code",
   "execution_count": null,
   "metadata": {},
   "outputs": [],
   "source": []
  },
  {
   "cell_type": "markdown",
   "metadata": {},
   "source": [
    "The code below will return a data frame listing the coefficients of each of the features in our regression model. These are easily interpretable and can be evaluated for impact on our target variable.\n",
    "\n",
    "For example, we can interpret the coefficient for 'overall_qual' as follows: \"For a one unit increase in the value of home's overall quality, we expect sale price to increase by approximately $13,181.99, holding all else constant.\"\n",
    "\n",
    "Or, for a one unit (one year) increase in the age of a home, we can expect the sale price to decrease by approximately $226.81, holding all else constant."
   ]
  },
  {
   "cell_type": "code",
   "execution_count": 34,
   "metadata": {},
   "outputs": [
    {
     "data": {
      "text/html": [
       "<div>\n",
       "<style scoped>\n",
       "    .dataframe tbody tr th:only-of-type {\n",
       "        vertical-align: middle;\n",
       "    }\n",
       "\n",
       "    .dataframe tbody tr th {\n",
       "        vertical-align: top;\n",
       "    }\n",
       "\n",
       "    .dataframe thead th {\n",
       "        text-align: right;\n",
       "    }\n",
       "</style>\n",
       "<table border=\"1\" class=\"dataframe\">\n",
       "  <thead>\n",
       "    <tr style=\"text-align: right;\">\n",
       "      <th></th>\n",
       "      <th>0</th>\n",
       "    </tr>\n",
       "  </thead>\n",
       "  <tbody>\n",
       "    <tr>\n",
       "      <th>overall_qual</th>\n",
       "      <td>13181.992162</td>\n",
       "    </tr>\n",
       "    <tr>\n",
       "      <th>exter_qual</th>\n",
       "      <td>19334.396642</td>\n",
       "    </tr>\n",
       "    <tr>\n",
       "      <th>gr_liv_area</th>\n",
       "      <td>55.498547</td>\n",
       "    </tr>\n",
       "    <tr>\n",
       "      <th>kitchen_qual</th>\n",
       "      <td>12615.910528</td>\n",
       "    </tr>\n",
       "    <tr>\n",
       "      <th>garage_size_interaction</th>\n",
       "      <td>14.754570</td>\n",
       "    </tr>\n",
       "    <tr>\n",
       "      <th>full_bath</th>\n",
       "      <td>-10275.039910</td>\n",
       "    </tr>\n",
       "    <tr>\n",
       "      <th>1st_flr_sf</th>\n",
       "      <td>14.748285</td>\n",
       "    </tr>\n",
       "    <tr>\n",
       "      <th>total_bsmt_sf</th>\n",
       "      <td>30.638309</td>\n",
       "    </tr>\n",
       "    <tr>\n",
       "      <th>age</th>\n",
       "      <td>-226.808246</td>\n",
       "    </tr>\n",
       "  </tbody>\n",
       "</table>\n",
       "</div>"
      ],
      "text/plain": [
       "                                    0\n",
       "overall_qual             13181.992162\n",
       "exter_qual               19334.396642\n",
       "gr_liv_area                 55.498547\n",
       "kitchen_qual             12615.910528\n",
       "garage_size_interaction     14.754570\n",
       "full_bath               -10275.039910\n",
       "1st_flr_sf                  14.748285\n",
       "total_bsmt_sf               30.638309\n",
       "age                       -226.808246"
      ]
     },
     "execution_count": 34,
     "metadata": {},
     "output_type": "execute_result"
    }
   ],
   "source": [
    "lr_coef = pd.DataFrame(lr.coef_, index=X.columns)\n",
    "lr_coef"
   ]
  },
  {
   "cell_type": "markdown",
   "metadata": {},
   "source": [
    "While these coefficients are easily interpretable, they do not reveal the relative importance of each feature in the model, as it is not necessarily reasonable to compare these coefficients directly--they all have different units, for example the quality features are measured on a scale of 1-10, while area measures are in number of square feet and bedrooms and bathrooms are represented in units."
   ]
  }
 ],
 "metadata": {
  "kernelspec": {
   "display_name": "Python 3",
   "language": "python",
   "name": "python3"
  },
  "language_info": {
   "codemirror_mode": {
    "name": "ipython",
    "version": 3
   },
   "file_extension": ".py",
   "mimetype": "text/x-python",
   "name": "python",
   "nbconvert_exporter": "python",
   "pygments_lexer": "ipython3",
   "version": "3.7.4"
  }
 },
 "nbformat": 4,
 "nbformat_minor": 2
}
